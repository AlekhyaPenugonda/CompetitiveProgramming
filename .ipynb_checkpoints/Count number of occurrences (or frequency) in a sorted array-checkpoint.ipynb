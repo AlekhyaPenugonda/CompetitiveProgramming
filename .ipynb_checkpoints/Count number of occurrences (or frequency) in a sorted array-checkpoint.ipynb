{
 "cells": [
  {
   "cell_type": "markdown",
   "metadata": {},
   "source": [
    "# Count number of occurrences (or frequency) in a sorted array"
   ]
  },
  {
   "cell_type": "raw",
   "metadata": {},
   "source": [
    "Count number of occurrences (or frequency) in a sorted array\n",
    "Given a sorted array arr[] and a number x, write a function that counts the occurrences of x in arr[]. Expected time complexity is O(Logn)\n",
    "Examples:\n",
    "\n",
    "  Input: arr[] = {1, 1, 2, 2, 2, 2, 3,},   x = 2\n",
    "  Output: 4 // x (or 2) occurs 4 times in arr[]\n",
    "\n",
    "  Input: arr[] = {1, 1, 2, 2, 2, 2, 3,},   x = 3\n",
    "  Output: 1 \n",
    "\n",
    "  Input: arr[] = {1, 1, 2, 2, 2, 2, 3,},   x = 1\n",
    "  Output: 2 \n",
    "\n",
    "  Input: arr[] = {1, 1, 2, 2, 2, 2, 3,},   x = 4\n",
    "  Output: -1 // 4 doesn't occur in arr[]"
   ]
  },
  {
   "cell_type": "raw",
   "metadata": {},
   "source": [
    "Method 1 (Linear Search)\n",
    "Linearly search for x, count the occurrences of x and return the count."
   ]
  },
  {
   "cell_type": "code",
   "execution_count": 3,
   "metadata": {},
   "outputs": [
    {
     "name": "stdout",
     "output_type": "stream",
     "text": [
      "4\n"
     ]
    }
   ],
   "source": [
    "# Returns number of times x  \n",
    "# occurs in arr[0..n-1] \n",
    "def countOccurrences(arr, n, x): \n",
    "    res = 0\n",
    "    for i in range(n): \n",
    "        if x == arr[i]: \n",
    "            res += 1\n",
    "    return res \n",
    "   \n",
    "# Driver code \n",
    "arr = [1, 2, 2, 2, 2, 3, 4, 7 ,8 ,8] \n",
    "n = len(arr) \n",
    "x = 2\n",
    "print (countOccurrences(arr, n, x))"
   ]
  },
  {
   "cell_type": "raw",
   "metadata": {},
   "source": [
    "Output :\n",
    "4\n",
    "Time Complexity: O(n)"
   ]
  },
  {
   "cell_type": "raw",
   "metadata": {},
   "source": [
    "Method 2 (Better using Binary Search)\n",
    "We first find an occurrence using binary search. Then we match toward left and right sides of the matched the found index."
   ]
  },
  {
   "cell_type": "code",
   "execution_count": 4,
   "metadata": {},
   "outputs": [
    {
     "name": "stdout",
     "output_type": "stream",
     "text": [
      "4\n"
     ]
    }
   ],
   "source": [
    "# Python 3 program to count  \n",
    "# occurrences of an element \n",
    "  \n",
    "# A recursive binary search  \n",
    "# function. It returns location \n",
    "# of x in given array arr[l..r]  \n",
    "# is present, otherwise -1 \n",
    "def binarySearch(arr, l, r, x): \n",
    "    if (r < l): \n",
    "        return -1\n",
    "  \n",
    "    mid = int( l + (r - l) / 2) \n",
    "  \n",
    "    # If the element is present  \n",
    "    # at the middle itself \n",
    "    if arr[mid] == x: \n",
    "        return mid \n",
    "  \n",
    "    # If element is smaller than  \n",
    "    # mid, then it can only be \n",
    "    # present in left subarray \n",
    "    if arr[mid] > x: \n",
    "        return binarySearch(arr, l,  \n",
    "                            mid - 1, x) \n",
    "  \n",
    "    # Else the element  \n",
    "    # can only be present \n",
    "    # in right subarray \n",
    "    return binarySearch(arr, mid + 1, \n",
    "                                r, x) \n",
    "  \n",
    "# Returns number of times  \n",
    "# x occurs in arr[0..n-1] \n",
    "def countOccurrences(arr, n, x): \n",
    "    ind = binarySearch(arr, 0, n - 1, x) \n",
    "  \n",
    "    # If element is not present \n",
    "    if ind == -1: \n",
    "        return 0\n",
    "  \n",
    "    # Count elements  \n",
    "    # on left side. \n",
    "    count = 1\n",
    "    left = ind - 1\n",
    "    while (left >= 0 and \n",
    "           arr[left] == x): \n",
    "        count += 1\n",
    "        left -= 1\n",
    "  \n",
    "    # Count elements on \n",
    "    # right side. \n",
    "    right = ind + 1; \n",
    "    while (right < n and\n",
    "           arr[right] == x): \n",
    "        count += 1\n",
    "        right += 1\n",
    "  \n",
    "    return count \n",
    "  \n",
    "# Driver code \n",
    "arr = [ 1, 2, 2, 2, 2,  \n",
    "        3, 4, 7, 8, 8 ] \n",
    "n = len(arr) \n",
    "x = 2\n",
    "print(countOccurrences(arr, n, x))"
   ]
  },
  {
   "cell_type": "raw",
   "metadata": {},
   "source": [
    "Output :\n",
    "4\n",
    "Time Complexity : O(Log n + count) where count is number of occurrences."
   ]
  },
  {
   "cell_type": "raw",
   "metadata": {},
   "source": [
    "Method 3 (Best using Improved Binary Search)\n",
    "1) Use Binary search to get index of the first occurrence of x in arr[]. Let the index of the first occurrence be i.\n",
    "2) Use Binary search to get index of the last occurrence of x in arr[]. Let the index of the last occurrence be j.\n",
    "3) Return (j – i + 1);"
   ]
  },
  {
   "cell_type": "code",
   "execution_count": 5,
   "metadata": {},
   "outputs": [
    {
     "name": "stdout",
     "output_type": "stream",
     "text": [
      "3 occurs 4 times \n"
     ]
    }
   ],
   "source": [
    "# Python3 program to count \n",
    "# occurrences of an element \n",
    "  \n",
    "# if x is present in arr[] then  \n",
    "# returns the count of occurrences \n",
    "# of x, otherwise returns -1.  \n",
    "def count(arr, x, n): \n",
    "  \n",
    "    # get the index of first \n",
    "    # occurrence of x  \n",
    "    i = first(arr, 0, n-1, x, n) \n",
    "   \n",
    "    # If x doesn't exist in  \n",
    "    # arr[] then return -1  \n",
    "    if i == -1: \n",
    "        return i \n",
    "      \n",
    "    # Else get the index of last occurrence \n",
    "    # of x. Note that we are only looking \n",
    "    # in the subarray after first occurrence    \n",
    "    j = last(arr, i, n-1, x, n);      \n",
    "      \n",
    "    # return count  \n",
    "    return j-i+1; \n",
    "  \n",
    "# if x is present in arr[] then return \n",
    "# the index of FIRST occurrence of x in \n",
    "# arr[0..n-1], otherwise returns -1  \n",
    "def first(arr, low, high, x, n): \n",
    "    if high >= low: \n",
    "  \n",
    "        # low + (high - low)/2 \n",
    "        mid = (low + high)//2      \n",
    "          \n",
    "    if (mid == 0 or x > arr[mid-1]) and arr[mid] == x: \n",
    "        return mid \n",
    "    elif x > arr[mid]: \n",
    "        return first(arr, (mid + 1), high, x, n) \n",
    "    else: \n",
    "        return first(arr, low, (mid -1), x, n) \n",
    "    return -1; \n",
    "   \n",
    "# if x is present in arr[] then return \n",
    "# the index of LAST occurrence of x  \n",
    "# in arr[0..n-1], otherwise returns -1  \n",
    "def last(arr, low, high, x, n): \n",
    "    if high >= low: \n",
    "  \n",
    "        # low + (high - low)/2 \n",
    "        mid = (low + high)//2;  \n",
    "   \n",
    "    if(mid == n-1 or x < arr[mid+1]) and arr[mid] == x : \n",
    "        return mid \n",
    "    elif x < arr[mid]: \n",
    "        return last(arr, low, (mid -1), x, n) \n",
    "    else: \n",
    "        return last(arr, (mid + 1), high, x, n)      \n",
    "    return -1\n",
    "  \n",
    "# driver program to test above functions  \n",
    "arr = [1, 2, 2, 3, 3, 3, 3] \n",
    "x = 3  # Element to be counted in arr[] \n",
    "n = len(arr) \n",
    "c = count(arr, x, n) \n",
    "print (\"%d occurs %d times \"%(x, c))"
   ]
  },
  {
   "cell_type": "raw",
   "metadata": {},
   "source": [
    "Output:\n",
    "3 occurs 4 times\n",
    "Time Complexity: O(Logn)"
   ]
  }
 ],
 "metadata": {
  "kernelspec": {
   "display_name": "Python 3",
   "language": "python",
   "name": "python3"
  },
  "language_info": {
   "codemirror_mode": {
    "name": "ipython",
    "version": 3
   },
   "file_extension": ".py",
   "mimetype": "text/x-python",
   "name": "python",
   "nbconvert_exporter": "python",
   "pygments_lexer": "ipython3",
   "version": "3.7.5"
  }
 },
 "nbformat": 4,
 "nbformat_minor": 2
}
