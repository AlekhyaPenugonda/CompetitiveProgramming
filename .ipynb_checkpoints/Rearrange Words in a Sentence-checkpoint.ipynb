{
 "cells": [
  {
   "cell_type": "markdown",
   "metadata": {},
   "source": [
    "# Rearrange Words in a Sentence"
   ]
  },
  {
   "cell_type": "raw",
   "metadata": {},
   "source": [
    "Problem:\n",
    "\n",
    "Given a sentence text (A sentence is a string of space-separated words) in the following format:\n",
    "\n",
    "First letter is in upper case.\n",
    "Each word in text are separated by a single space.\n",
    "Your task is to rearrange the words in text such that all words are rearranged in an increasing order of their lengths. If two words have the same length, arrange them in their original order.\n",
    "\n",
    "Return the new text following the format shown above.\n",
    "\n",
    " \n",
    "\n",
    "Example 1:\n",
    "\n",
    "Input: text = \"Leetcode is cool\"\n",
    "Output: \"Is cool leetcode\"\n",
    "Explanation: There are 3 words, \"Leetcode\" of length 8, \"is\" of length 2 and \"cool\" of length 4.\n",
    "Output is ordered by length and the new first word starts with capital letter.\n",
    "\n",
    "Example 2:\n",
    "\n",
    "Input: text = \"Keep calm and code on\"\n",
    "Output: \"On and keep calm code\"\n",
    "Explanation: Output is ordered as follows:\n",
    "\"On\" 2 letters.\n",
    "\"and\" 3 letters.\n",
    "\"keep\" 4 letters in case of tie order by position in original text.\n",
    "\"calm\" 4 letters.\n",
    "\"code\" 4 letters.\n",
    "Example 3:\n",
    "\n",
    "Input: text = \"To be or not to be\"\n",
    "Output: \"To be or to be not\"\n",
    " \n",
    "\n",
    "Constraints:\n",
    "\n",
    "text begins with a capital letter and then contains lowercase letters and single space between words.\n",
    "1 <= text.length <= 10^5"
   ]
  },
  {
   "cell_type": "code",
   "execution_count": null,
   "metadata": {},
   "outputs": [],
   "source": [
    "class Solution(object):\n",
    "    def toupperoffirstword(self, s):\n",
    "        return s[0].upper() + s[1:]\n",
    "    def arrangeWords(self, text):\n",
    "        \"\"\"\n",
    "        :type text: str\n",
    "        :rtype: str\n",
    "        \"\"\"\n",
    "        listoftuples = sorted([(len(w),i,w.lower()) for i,w in enumerate(text.split(' '))])\n",
    "        # [(2, 4, 'on'), (3, 2, 'and'), (4, 0, 'keep'), (4, 1, 'calm'), (4, 3, 'code')]\n",
    "        lst = [self.toupperoffirstword(listoftuples[0][2])] + [w[2] for w in listoftuples[1:]]\n",
    "        # ['On', 'and', 'keep', 'calm', 'code']\n",
    "        return ' '.join(lst)\n",
    "    \n",
    "OR\n",
    "\n",
    "class Solution:\n",
    "    def arrangeWords(self, text: str) -> str:\n",
    "        text = text.lower().split(' ')\n",
    "        text.sort(key=len)\n",
    "        text[0] = text[0][0].upper() + text[0][1:]\n",
    "        return ' '.join(text)"
   ]
  },
  {
   "cell_type": "markdown",
   "metadata": {},
   "source": [
    "https://leetcode.com/contest/weekly-contest-189/problems/rearrange-words-in-a-sentence/"
   ]
  }
 ],
 "metadata": {
  "kernelspec": {
   "display_name": "Python 3",
   "language": "python",
   "name": "python3"
  },
  "language_info": {
   "codemirror_mode": {
    "name": "ipython",
    "version": 3
   },
   "file_extension": ".py",
   "mimetype": "text/x-python",
   "name": "python",
   "nbconvert_exporter": "python",
   "pygments_lexer": "ipython3",
   "version": "3.7.5"
  }
 },
 "nbformat": 4,
 "nbformat_minor": 2
}
