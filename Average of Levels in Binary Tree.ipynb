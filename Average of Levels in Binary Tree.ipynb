{
 "cells": [
  {
   "cell_type": "markdown",
   "metadata": {},
   "source": [
    "# Average of Levels in Binary Tree"
   ]
  },
  {
   "cell_type": "raw",
   "metadata": {},
   "source": [
    "Given a non-empty binary tree, return the average value of the nodes on each level in the form of an array.\n",
    "Example 1:\n",
    "Input:\n",
    "    3\n",
    "   / \\\n",
    "  9  20\n",
    "    /  \\\n",
    "   15   7\n",
    "Output: [3, 14.5, 11]\n",
    "Explanation:\n",
    "The average value of nodes on level 0 is 3,  on level 1 is 14.5, and on level 2 is 11. Hence return [3, 14.5, 11].\n",
    "Note:\n",
    "The range of node's value is in the range of 32-bit signed integer.\n",
    "Accepted\n",
    "116,290\n",
    "Submissions\n",
    "187,730"
   ]
  },
  {
   "cell_type": "code",
   "execution_count": null,
   "metadata": {},
   "outputs": [],
   "source": [
    "class Solution:\n",
    "    def averageOfLevels(self, root: TreeNode) -> List[float]:\n",
    "        d = {}\n",
    "        def levels(root, lvl):\n",
    "            if root:\n",
    "                    if lvl in d:\n",
    "                        d[lvl].append(root.val)\n",
    "                    else:\n",
    "                        d[lvl] = [root.val]\n",
    "                    levels(root.left, lvl+1)\n",
    "                    levels(root.right, lvl+1)\n",
    "            else:\n",
    "                return   \n",
    "        levels(root, 0) \n",
    "        ll = []\n",
    "        for i in d:\n",
    "            ll.append(sum(d[i])/len(d[i]))\n",
    "        return ll"
   ]
  },
  {
   "cell_type": "markdown",
   "metadata": {},
   "source": [
    "https://leetcode.com/problems/average-of-levels-in-binary-tree/"
   ]
  }
 ],
 "metadata": {
  "kernelspec": {
   "display_name": "Python 3",
   "language": "python",
   "name": "python3"
  },
  "language_info": {
   "codemirror_mode": {
    "name": "ipython",
    "version": 3
   },
   "file_extension": ".py",
   "mimetype": "text/x-python",
   "name": "python",
   "nbconvert_exporter": "python",
   "pygments_lexer": "ipython3",
   "version": "3.7.5"
  }
 },
 "nbformat": 4,
 "nbformat_minor": 2
}
