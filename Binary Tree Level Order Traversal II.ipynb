{
 "cells": [
  {
   "cell_type": "markdown",
   "metadata": {},
   "source": [
    "# Binary Tree Level Order Traversal II"
   ]
  },
  {
   "cell_type": "raw",
   "metadata": {},
   "source": [
    "Given a binary tree, return the bottom-up level order traversal of its nodes' values. (ie, from left to right, level by level from leaf to root).\n",
    "\n",
    "For example:\n",
    "Given binary tree [3,9,20,null,null,15,7],\n",
    "    3\n",
    "   / \\\n",
    "  9  20\n",
    "    /  \\\n",
    "   15   7\n",
    "return its bottom-up level order traversal as:\n",
    "[\n",
    "  [15,7],\n",
    "  [9,20],\n",
    "  [3]\n",
    "]\n",
    "Accepted\n",
    "297,800\n",
    "Submissions\n",
    "584,088"
   ]
  },
  {
   "cell_type": "code",
   "execution_count": null,
   "metadata": {},
   "outputs": [],
   "source": [
    "class Solution:\n",
    "    def levelOrderBottom(self, root: TreeNode) -> List[List[int]]:\n",
    "        d = {}\n",
    "        def levels(root, lvl):\n",
    "            if root:\n",
    "                if lvl in d:\n",
    "                    d[lvl].append(root.val)\n",
    "                else:\n",
    "                    d[lvl] = [root.val]\n",
    "                levels(root.left, lvl+1)\n",
    "                levels(root.right, lvl+1)\n",
    "            else:\n",
    "                return\n",
    "        levels(root, 0)\n",
    "        print(d)\n",
    "        fl = []\n",
    "        for i in d:\n",
    "            fl.append(d[i])\n",
    "        return fl[::-1]"
   ]
  },
  {
   "cell_type": "code",
   "execution_count": null,
   "metadata": {},
   "outputs": [],
   "source": [
    "https://leetcode.com/problems/binary-tree-level-order-traversal-ii/"
   ]
  }
 ],
 "metadata": {
  "kernelspec": {
   "display_name": "Python 3",
   "language": "python",
   "name": "python3"
  },
  "language_info": {
   "codemirror_mode": {
    "name": "ipython",
    "version": 3
   },
   "file_extension": ".py",
   "mimetype": "text/x-python",
   "name": "python",
   "nbconvert_exporter": "python",
   "pygments_lexer": "ipython3",
   "version": "3.7.5"
  }
 },
 "nbformat": 4,
 "nbformat_minor": 2
}
