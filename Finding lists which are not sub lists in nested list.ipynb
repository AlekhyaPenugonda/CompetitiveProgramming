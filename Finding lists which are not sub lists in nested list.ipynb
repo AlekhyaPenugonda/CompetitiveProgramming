{
 "cells": [
  {
   "cell_type": "markdown",
   "metadata": {},
   "source": [
    "# People Whose List of Favorite Companies Is Not a Subset of Another List\n"
   ]
  },
  {
   "cell_type": "raw",
   "metadata": {},
   "source": [
    "1452. People Whose List of Favorite Companies Is Not a Subset of Another List\n",
    "User Accepted:3841\n",
    "User Tried:5015\n",
    "Total Accepted:3959\n",
    "Total Submissions:8846\n",
    "Difficulty:Medium\n",
    "Given the array favoriteCompanies where favoriteCompanies[i] is the list of favorites companies for the ith person (indexed from 0).\n",
    "\n",
    "Return the indices of people whose list of favorite companies is not a subset of any other list of favorites companies. You must return the indices in increasing order.\n",
    "\n",
    " \n",
    "\n",
    "Example 1:\n",
    "\n",
    "Input: favoriteCompanies = [[\"leetcode\",\"google\",\"facebook\"],[\"google\",\"microsoft\"],[\"google\",\"facebook\"],[\"google\"],[\"amazon\"]]\n",
    "\n",
    "Output: [0,1,4] \n",
    "\n",
    "Explanation: \n",
    "Person with index=2 has favoriteCompanies[2]=[\"google\",\"facebook\"] which is a subset of favoriteCompanies[0]=[\"leetcode\",\"google\",\"facebook\"] corresponding to the person with index 0. \n",
    "Person with index=3 has favoriteCompanies[3]=[\"google\"] which is a subset of favoriteCompanies[0]=[\"leetcode\",\"google\",\"facebook\"] and favoriteCompanies[1]=[\"google\",\"microsoft\"]. \n",
    "Other lists of favorite companies are not a subset of another list, therefore, the answer is [0,1,4].\n",
    "Example 2:\n",
    "\n",
    "Input: favoriteCompanies = [[\"leetcode\",\"google\",\"facebook\"],[\"leetcode\",\"amazon\"],[\"facebook\",\"google\"]]\n",
    "Output: [0,1] \n",
    "Explanation: In this case favoriteCompanies[2]=[\"facebook\",\"google\"] is a subset of favoriteCompanies[0]=[\"leetcode\",\"google\",\"facebook\"], therefore, the answer is [0,1].\n",
    "Example 3:\n",
    "\n",
    "Input: favoriteCompanies = [[\"leetcode\"],[\"google\"],[\"facebook\"],[\"amazon\"]]\n",
    "Output: [0,1,2,3]\n",
    " \n",
    "\n",
    "Constraints:\n",
    "\n",
    "1 <= favoriteCompanies.length <= 100\n",
    "1 <= favoriteCompanies[i].length <= 500\n",
    "1 <= favoriteCompanies[i][j].length <= 20\n",
    "All strings in favoriteCompanies[i] are distinct.\n",
    "All lists of favorite companies are distinct, that is, If we sort alphabetically each list then favoriteCompanies[i] != favoriteCompanies[j].\n",
    "All strings consist of lowercase English letters only.\n"
   ]
  },
  {
   "cell_type": "code",
   "execution_count": null,
   "metadata": {},
   "outputs": [],
   "source": [
    "class Solution:\n",
    "    def peopleIndexes(self, fc: List[List[str]]) -> List[int]:\n",
    "        l = []\n",
    "        l1 = []\n",
    "        for i in fc:\n",
    "            f = 0\n",
    "            for j in fc:\n",
    "                if set(i).issubset(set(j)) and fc.index(i)!=fc.index(j):\n",
    "                    f = 1\n",
    "            if f == 0:\n",
    "                l.append(fc.index(i))\n",
    "        return l\n",
    "                \n",
    "                   "
   ]
  },
  {
   "cell_type": "markdown",
   "metadata": {},
   "source": [
    "https://leetcode.com/contest/weekly-contest-189/problems/people-whose-list-of-favorite-companies-is-not-a-subset-of-another-list/"
   ]
  },
  {
   "cell_type": "code",
   "execution_count": null,
   "metadata": {},
   "outputs": [],
   "source": []
  }
 ],
 "metadata": {
  "kernelspec": {
   "display_name": "Python 3",
   "language": "python",
   "name": "python3"
  },
  "language_info": {
   "codemirror_mode": {
    "name": "ipython",
    "version": 3
   },
   "file_extension": ".py",
   "mimetype": "text/x-python",
   "name": "python",
   "nbconvert_exporter": "python",
   "pygments_lexer": "ipython3",
   "version": "3.7.5"
  }
 },
 "nbformat": 4,
 "nbformat_minor": 2
}
