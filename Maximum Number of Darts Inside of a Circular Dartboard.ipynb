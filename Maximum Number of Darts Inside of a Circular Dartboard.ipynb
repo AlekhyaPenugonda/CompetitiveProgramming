{
 "cells": [
  {
   "cell_type": "markdown",
   "metadata": {},
   "source": [
    "# Maximum Number of Darts Inside of a Circular Dartboard"
   ]
  },
  {
   "cell_type": "raw",
   "metadata": {},
   "source": [
    "You have a very large square wall and a circular dartboard placed on the wall. You have been challenged to throw darts into the board blindfolded. Darts thrown at the wall are represented as an array of points on a 2D plane. \n",
    "\n",
    "Return the maximum number of points that are within or lie on any circular dartboard of radius r.\n",
    "\n",
    " \n",
    "\n",
    "Example 1:\n",
    "\n",
    "\n",
    "\n",
    "Input: points = [[-2,0],[2,0],[0,2],[0,-2]], r = 2\n",
    "Output: 4\n",
    "Explanation: Circle dartboard with center in (0,0) and radius = 2 contain all points.\n",
    "Example 2:\n",
    "\n",
    "\n",
    "\n",
    "Input: points = [[-3,0],[3,0],[2,6],[5,4],[0,9],[7,8]], r = 5\n",
    "Output: 5\n",
    "Explanation: Circle dartboard with center in (0,4) and radius = 5 contain all points except the point (7,8).\n",
    "Example 3:\n",
    "\n",
    "Input: points = [[-2,0],[2,0],[0,2],[0,-2]], r = 1\n",
    "Output: 1\n",
    "Example 4:\n",
    "\n",
    "Input: points = [[1,2],[3,5],[1,-1],[2,3],[4,1],[1,3]], r = 2\n",
    "Output: 4\n",
    " \n",
    "\n",
    "Constraints:\n",
    "\n",
    "1 <= points.length <= 100\n",
    "points[i].length == 2\n",
    "-10^4 <= points[i][0], points[i][1] <= 10^4\n",
    "1 <= r <= 5000"
   ]
  },
  {
   "cell_type": "code",
   "execution_count": null,
   "metadata": {},
   "outputs": [],
   "source": [
    "class Solution:\n",
    "    def numPoints(self, points: List[List[int]], r: int) -> int:\n",
    "        def dist2(p1: List[int], p2: List[int]) -> int:\n",
    "            return (p1[0] - p2[0]) ** 2 + (p1[1] - p2[1]) ** 2\n",
    "        \n",
    "        def getCircle(p1: List[int], p2: List[int]) -> List[float]:\n",
    "            mid = [(p1[0] + p2[0]) / 2, (p1[1] + p2[1]) / 2]\n",
    "            angle = math.atan((p1[0] - p2[0]) / (p2[1] - p1[1])) if p2[1] - p1[1] else math.pi / 2\n",
    "            d = math.sqrt(r2 - dist2(p1, mid))\n",
    "            return [mid[0] + d * math.cos(angle), mid[1] + d * math.sin(angle)]\n",
    "        \n",
    "        n = len(points)\n",
    "        ans = 1\n",
    "        eps = 1e-6\n",
    "        r2 = r * r\n",
    "        for i in range(n):\n",
    "            for j in range(i + 1):\n",
    "                if dist2(points[i], points[j]) > 4 * r2:\n",
    "                    continue\n",
    "                center = getCircle(points[i], points[j])\n",
    "                count = 0\n",
    "                for k in range(n):\n",
    "                    if dist2(points[k], center) < r2 + eps:\n",
    "                        count += 1\n",
    "                ans = max(ans, count)\n",
    "        return ans\n"
   ]
  },
  {
   "cell_type": "markdown",
   "metadata": {},
   "source": [
    "https://leetcode.com/contest/weekly-contest-189/problems/maximum-number-of-darts-inside-of-a-circular-dartboard/"
   ]
  }
 ],
 "metadata": {
  "kernelspec": {
   "display_name": "Python 3",
   "language": "python",
   "name": "python3"
  },
  "language_info": {
   "codemirror_mode": {
    "name": "ipython",
    "version": 3
   },
   "file_extension": ".py",
   "mimetype": "text/x-python",
   "name": "python",
   "nbconvert_exporter": "python",
   "pygments_lexer": "ipython3",
   "version": "3.7.5"
  }
 },
 "nbformat": 4,
 "nbformat_minor": 2
}
