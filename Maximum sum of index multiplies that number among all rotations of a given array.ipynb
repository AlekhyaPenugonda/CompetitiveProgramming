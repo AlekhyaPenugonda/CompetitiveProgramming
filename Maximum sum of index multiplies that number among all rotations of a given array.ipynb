{
 "cells": [
  {
   "cell_type": "markdown",
   "metadata": {},
   "source": [
    "# Maximum sum of i*arr[i] among all rotations of a given array"
   ]
  },
  {
   "cell_type": "markdown",
   "metadata": {},
   "source": [
    "Given an array arr[] of n integers, find the maximum that maximizes the sum of the value of i*arr[i] where i varies from 0 to n-1.\n",
    "\n",
    "Examples:\n",
    "\n",
    "Input: arr[] = {8, 3, 1, 2}\n",
    "Output: 29\n",
    "Explanation: Lets look at all the rotations,\n",
    "{8, 3, 1, 2} = 8*0 + 3*1 + 1*2 + 2*3 = 11\n",
    "{3, 1, 2, 8} = 3*0 + 1*1 + 2*2 + 8*3 = 29\n",
    "{1, 2, 8, 3} = 1*0 + 2*1 + 8*2 + 3*3 = 27\n",
    "{2, 8, 3, 1} = 2*0 + 8*1 + 3*2 + 1*1 = 17\n",
    "\n",
    "Input: arr[] = {3, 2, 1}\n",
    "Output: 7\n",
    "Explanation: Lets look at all the rotations,\n",
    "{3, 2, 1} = 3*0 + 2*1 + 1*2 = 4\n",
    "{2, 1, 3} = 2*0 + 1*1 + 3*2 = 7\n",
    "{1, 3, 2} = 1*0 + 3*1 + 2*2 = 7 "
   ]
  },
  {
   "cell_type": "raw",
   "metadata": {},
   "source": [
    "This method discusses the efficient solution which solves the problem in O(n) time. In the naive solution, the values were calculated for every rotation. So if that can be done in constant time then the complexity will decrease.\n",
    "\n",
    "Approach: The basic approach is to calculate the sum of new rotation from the previous rotations. This brings up a similarity where only the multipliers of first and last element change drastically and the multiplier of every other element increases or decreases by 1. So in this way, the sum of next rotation can be calculated from the sum of present rotation.\n",
    "Algorithm:\n",
    "The idea is to compute the value of a rotation using values of previous rotation. When an array is rotated by one, following changes happen in sum of i*arr[i].\n",
    "Multiplier of arr[i-1] changes from 0 to n-1, i.e., arr[i-1] * (n-1) is added to current value.\n",
    "Multipliers of other terms is decremented by 1. i.e., (cum_sum – arr[i-1]) is subtracted from current value where cum_sum is sum of all numbers.\n",
    "\n",
    "\n",
    "next_val = curr_val - (cum_sum - arr[i-1]) + arr[i-1] * (n-1);\n",
    "\n",
    "next_val = Value of &Sum;i*arr[i] after one rotation.\n",
    "curr_val = Current value of &Sum;i*arr[i] \n",
    "cum_sum = Sum of all array elements, i.e., &Sum;arr[i].\n",
    "\n",
    "Lets take example {1, 2, 3}. Current value is 1*0+2*1+3*2\n",
    "= 8. Shifting it by one will make it {2, 3, 1} and next value\n",
    "will be 8 - (6 - 1) + 1*2 = 5 which is same as 2*0 + 3*1 + 1*2"
   ]
  },
  {
   "cell_type": "code",
   "execution_count": 2,
   "metadata": {},
   "outputs": [
    {
     "name": "stdout",
     "output_type": "stream",
     "text": [
      "29\n"
     ]
    }
   ],
   "source": [
    "# An efficient Python 3 program to \n",
    "# compute maximum sum of i * arr[i] \n",
    "  \n",
    "def maxSum(arr, n): \n",
    "  \n",
    "    # Compute sum of all array elements \n",
    "    cum_sum = 0\n",
    "      \n",
    "    for i in range(0, n): \n",
    "        cum_sum += arr[i]  \n",
    "  \n",
    "    # Compute sum of i * arr[i] for  \n",
    "    # initial configuration. \n",
    "    curr_val = 0\n",
    "      \n",
    "    for i in range(0, n): \n",
    "        curr_val += i * arr[i]  \n",
    "  \n",
    "    # Initialize result \n",
    "    res = curr_val  \n",
    "  \n",
    "    # Compute values for other iterations \n",
    "    for i in range(1, n): \n",
    "      \n",
    "        # Compute next value using previous \n",
    "        # value in O(1) time \n",
    "        next_val = (curr_val - (cum_sum - arr[i-1]) +\n",
    "                                    arr[i-1] * (n-1)) \n",
    "  \n",
    "        # Update current value \n",
    "        curr_val = next_val  \n",
    "  \n",
    "        # Update result if required \n",
    "        res = max(res, next_val) \n",
    "      \n",
    "    return res  \n",
    "  \n",
    "  \n",
    "# Driver code \n",
    "arr = [8, 3, 1, 2]  \n",
    "n = len(arr) \n",
    "  \n",
    "print(maxSum(arr, n)) "
   ]
  },
  {
   "cell_type": "raw",
   "metadata": {},
   "source": [
    "Output:\n",
    "29\n",
    "Complexity analysis:\n",
    "Time Complexity: O(n).\n",
    "Since one loop is needed from 0 to n to check all rotations and the sum of the present rotation is calculated from the previous rotations in O(1) time).\n",
    "Auxiliary Space: O(1).\n",
    "As no extra space is required to so the space complexity will be O(1)"
   ]
  },
  {
   "cell_type": "markdown",
   "metadata": {},
   "source": [
    "https://www.geeksforgeeks.org/maximum-sum-iarri-among-rotations-given-array/"
   ]
  }
 ],
 "metadata": {
  "kernelspec": {
   "display_name": "Python 3",
   "language": "python",
   "name": "python3"
  },
  "language_info": {
   "codemirror_mode": {
    "name": "ipython",
    "version": 3
   },
   "file_extension": ".py",
   "mimetype": "text/x-python",
   "name": "python",
   "nbconvert_exporter": "python",
   "pygments_lexer": "ipython3",
   "version": "3.7.5"
  }
 },
 "nbformat": 4,
 "nbformat_minor": 2
}
