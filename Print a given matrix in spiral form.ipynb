{
 "cells": [
  {
   "cell_type": "markdown",
   "metadata": {},
   "source": [
    "# Print a given matrix in spiral form"
   ]
  },
  {
   "cell_type": "raw",
   "metadata": {},
   "source": [
    "Given a 2D array, print it in spiral form. See the following examples.\n",
    "Examples:\n",
    "\n",
    "Input:  1    2   3   4\n",
    "        5    6   7   8\n",
    "        9   10  11  12\n",
    "        13  14  15  16\n",
    "Output: 1 2 3 4 8 12 16 15 14 13 9 5 6 7 11 10 \n",
    "Explanation: The output is matrix in spiral format. \n",
    "\n",
    "Input:  1   2   3   4  5   6\n",
    "        7   8   9  10  11  12\n",
    "        13  14  15 16  17  18\n",
    "Output: 1 2 3 4 5 6 12 18 17 16 15 14 13 7 8 9 10 11\n",
    "Explanation :The output is matrix in spiral format."
   ]
  },
  {
   "cell_type": "raw",
   "metadata": {},
   "source": [
    "his is a simple method to solve the following problem.\n",
    "\n",
    "Approach: The problem can be solved by dividing the matrix into loops or squares or boundaries. It can be seen that the elements of the outer loop are printed first in a clockwise manner then the elements of the inner loop is printed. So printing the elements of a loop can be solved using four loops which prints all the elements. Every ‘for’ loop defines a single direction movement along with the matrix. The first for loop represents the movement from left to right, whereas the second crawl represents the movement from top to bottom, the third represents the movement from the right to left, and the fourth represents the movement from bottom to up.\n",
    "\n",
    "Algorithm:\n",
    "\n",
    " 1. create and initilize variables k – starting row index, m – ending row index, l – starting column index, n – ending column index\n",
    " 2. Run a loop until all the squares of loops are printed.\n",
    " 3. In each outer loop traversal print the elements of a square in clockwise manner.\n",
    " 4. Print the top row, i.e. Print the elements of kth row from column index l to n, and increase the count of k.\n",
    " 5. Print the right column, i.e. Print the last column or n-1th column from row index k to m and decrease the count of n.\n",
    " 6. Print the bottom row, i.e. if k > m, then print the elements of m-1th row from column n-1 to l and decrease the count of m\n",
    " 7. Print the left column, i.e. if l < n, then print the elements of lth column from m-1th row to k and increase the count of l."
   ]
  },
  {
   "cell_type": "code",
   "execution_count": 1,
   "metadata": {},
   "outputs": [
    {
     "name": "stdout",
     "output_type": "stream",
     "text": [
      "1 2 3 4 5 6 12 18 17 16 15 14 13 7 8 9 10 11 "
     ]
    }
   ],
   "source": [
    "# Python3 program to print  \n",
    "# given matrix in spiral form \n",
    "def spiralPrint(m, n, a) : \n",
    "    k = 0; l = 0\n",
    "  \n",
    "    ''' k - starting row index \n",
    "        m - ending row index \n",
    "        l - starting column index \n",
    "        n - ending column index \n",
    "        i - iterator '''\n",
    "      \n",
    "  \n",
    "    while (k < m and l < n) : \n",
    "          \n",
    "        # Print the first row from \n",
    "        # the remaining rows  \n",
    "        for i in range(l, n) : \n",
    "            print(a[k][i], end = \" \") \n",
    "              \n",
    "        k += 1\n",
    "  \n",
    "        # Print the last column from \n",
    "        # the remaining columns  \n",
    "        for i in range(k, m) : \n",
    "            print(a[i][n - 1], end = \" \") \n",
    "              \n",
    "        n -= 1\n",
    "  \n",
    "        # Print the last row from \n",
    "        # the remaining rows  \n",
    "        if ( k < m) : \n",
    "              \n",
    "            for i in range(n - 1, (l - 1), -1) : \n",
    "                print(a[m - 1][i], end = \" \") \n",
    "              \n",
    "            m -= 1\n",
    "          \n",
    "        # Print the first column from \n",
    "        # the remaining columns  \n",
    "        if (l < n) : \n",
    "            for i in range(m - 1, k - 1, -1) : \n",
    "                print(a[i][l], end = \" \") \n",
    "              \n",
    "            l += 1\n",
    "  \n",
    "# Driver Code \n",
    "a = [ [1, 2, 3, 4, 5, 6], \n",
    "      [7, 8, 9, 10, 11, 12], \n",
    "      [13, 14, 15, 16, 17, 18] ] \n",
    "        \n",
    "R = 3; C = 6\n",
    "spiralPrint(R, C, a)"
   ]
  },
  {
   "cell_type": "raw",
   "metadata": {},
   "source": [
    "Complexity Analysis:\n",
    "Time Complexity: O(m*n).\n",
    "To traverse the matrix O(m*n) time is required.\n",
    "Space Comepxlity:O(1).\n",
    "No extra space is required."
   ]
  },
  {
   "cell_type": "code",
   "execution_count": null,
   "metadata": {},
   "outputs": [],
   "source": [
    "https://www.geeksforgeeks.org/print-a-given-matrix-in-spiral-form/"
   ]
  }
 ],
 "metadata": {
  "kernelspec": {
   "display_name": "Python 3",
   "language": "python",
   "name": "python3"
  },
  "language_info": {
   "codemirror_mode": {
    "name": "ipython",
    "version": 3
   },
   "file_extension": ".py",
   "mimetype": "text/x-python",
   "name": "python",
   "nbconvert_exporter": "python",
   "pygments_lexer": "ipython3",
   "version": "3.7.5"
  }
 },
 "nbformat": 4,
 "nbformat_minor": 2
}
