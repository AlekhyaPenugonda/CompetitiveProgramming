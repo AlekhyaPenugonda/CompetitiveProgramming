{
 "cells": [
  {
   "cell_type": "markdown",
   "metadata": {},
   "source": [
    "# The Celebrity Problem"
   ]
  },
  {
   "cell_type": "raw",
   "metadata": {},
   "source": [
    "In a party of N people, only one person is known to everyone. Such a person may be present in the party, if yes, (s)he doesn’t know anyone in the party. We can only ask questions like “does A know B? “. Find the stranger (celebrity) in the minimum number of questions.\n",
    "\n",
    "We can describe the problem input as an array of numbers/characters representing persons in the party. We also have a hypothetical function HaveAcquaintance(A, B) which returns true if A knows B, false otherwise. How can we solve the problem.\n",
    "Examples:\n",
    "\n",
    "Input:\n",
    "MATRIX = { {0, 0, 1, 0},\n",
    "           {0, 0, 1, 0},\n",
    "           {0, 0, 0, 0},\n",
    "           {0, 0, 1, 0} }\n",
    "Output:id = 2\n",
    "Explanation: The person with ID 2 does not \n",
    "know anyone but everyone knows him\n",
    "\n",
    "Input:\n",
    "MATRIX = { {0, 0, 1, 0},\n",
    "           {0, 0, 1, 0},\n",
    "           {0, 1, 0, 0},\n",
    "           {0, 0, 1, 0} }\n",
    "Output: No celebrity\n",
    "Explanation: There is no celebrity."
   ]
  },
  {
   "cell_type": "markdown",
   "metadata": {},
   "source": [
    "This method uses Two Pointers technique to solve the above problem.\n",
    "\n",
    "Approach: The idea is to use two pointers, one from start and one from the end. Assume the start person is A, and the end person is B. If A knows B, then A must not be the celebrity. Else, B must not be the celebrity. At the end of the loop, only one index will be left as a celebrity. Go through each person again and check whether this is the celebrity.\n",
    "The Two Pointer approach can be used where two pointers can be assigned, one at the start and other at the end and the elements can be compared and the search space can be reduced.\n",
    "Algorithm :\n",
    "Create two indices a and b, where a = 0 and b = n-1\n",
    "Run a loop until a is less than b.\n",
    "Check if a knows b, then a can be celebrity. so incement a, i.e. a++\n",
    "Else b cannot be celebrity, so decrement b, i.e. b–\n",
    "Assign a as the celebrity\n",
    "Run a loop from 0 to n-1 and find the count of persons who knows the celebrity and the number of people whom the celebrity knows. if the count of persons who knows the celebrity is n-1 and the count of people whom the celebrity knows is 0 then return the id of celebrity else return -1."
   ]
  },
  {
   "cell_type": "raw",
   "metadata": {},
   "source": [
    "// C++ program to find  \n",
    "// celebrity in O(n) time \n",
    "// and O(1) extra space \n",
    "#include <bits/stdc++.h> \n",
    "using namespace std; \n",
    "  \n",
    "// Max # of persons in the party \n",
    "#define N 8 \n",
    "  \n",
    "// Person with 2 is celebrity \n",
    "bool MATRIX[N][N] = {{0, 0, 1, 0}, \n",
    "                     {0, 0, 1, 0}, \n",
    "                     {0, 0, 0, 0}, \n",
    "                     {0, 0, 1, 0} \n",
    "}; \n",
    "  \n",
    "bool knows(int a, int b) \n",
    "{ \n",
    "    return MATRIX[a][b]; \n",
    "} \n",
    "  \n",
    "// Returns id of celebrity \n",
    "int findCelebrity(int n) \n",
    "{ \n",
    "    // Initialize two pointers  \n",
    "    // as two corners \n",
    "    int a = 0; \n",
    "    int b = n - 1; \n",
    "  \n",
    "    // Keep moving while  \n",
    "    // the two pointers \n",
    "    // don't become same.  \n",
    "    while (a < b) \n",
    "    { \n",
    "        if (knows(a, b)) \n",
    "            a++; \n",
    "        else\n",
    "            b--; \n",
    "    } \n",
    "  \n",
    "    // Check if a is actually \n",
    "    // a celebrity or not \n",
    "    for (int i = 0; i < n; i++) \n",
    "    { \n",
    "        // If any person doesn't  \n",
    "        // know 'a' or 'a' doesn't \n",
    "        // know any person, return -1 \n",
    "        if ( (i != a) && \n",
    "                (knows(a, i) ||  \n",
    "                !knows(i, a)) ) \n",
    "            return -1; \n",
    "    } \n",
    "  \n",
    "    return a; \n",
    "} \n",
    "  \n",
    "// Driver code \n",
    "int main() \n",
    "{ \n",
    "    int n = 4; \n",
    "    int id = findCelebrity(n); \n",
    "    id == -1 ? cout << \"No celebrity\" : \n",
    "               cout << \"Celebrity ID \" \n",
    "                    << id; \n",
    "    return 0; \n",
    "}"
   ]
  },
  {
   "cell_type": "raw",
   "metadata": {},
   "source": [
    "Output :\n",
    "Celebrity ID 2\n",
    "Complexity Analysis:\n",
    "Time Complexity: O(n).\n",
    "Total number of comparisons 2(N-1), so the time complexity is O(n).\n",
    "Space Complexity : O(1).\n",
    "No extra space is required."
   ]
  },
  {
   "cell_type": "markdown",
   "metadata": {},
   "source": [
    "geeksforgeeks.org/the-celebrity-problem/"
   ]
  }
 ],
 "metadata": {
  "kernelspec": {
   "display_name": "Python 3",
   "language": "python",
   "name": "python3"
  },
  "language_info": {
   "codemirror_mode": {
    "name": "ipython",
    "version": 3
   },
   "file_extension": ".py",
   "mimetype": "text/x-python",
   "name": "python",
   "nbconvert_exporter": "python",
   "pygments_lexer": "ipython3",
   "version": "3.7.5"
  }
 },
 "nbformat": 4,
 "nbformat_minor": 2
}
